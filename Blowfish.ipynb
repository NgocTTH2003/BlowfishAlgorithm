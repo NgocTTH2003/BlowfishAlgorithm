{
  "nbformat": 4,
  "nbformat_minor": 0,
  "metadata": {
    "colab": {
      "provenance": []
    },
    "kernelspec": {
      "name": "python3",
      "display_name": "Python 3"
    },
    "language_info": {
      "name": "python"
    }
  },
  "cells": [
    {
      "cell_type": "markdown",
      "source": [
        "# Văn bản đầu vào và khóa mật"
      ],
      "metadata": {
        "id": "y58y8g6ZLV2j"
      }
    },
    {
      "cell_type": "code",
      "source": [
        "input = \"blowfish\"\n",
        "key_secret = \"nhom4thuattoanblowfish\""
      ],
      "metadata": {
        "id": "z_kGY0pGLZoU"
      },
      "execution_count": null,
      "outputs": []
    },
    {
      "cell_type": "code",
      "source": [
        "# Chuỗi ban đầu\n",
        "text = \"nhom4thuattoanblowfish\"\n",
        "\n",
        "# Chuyển mỗi ký tự thành mã ASCII, sau đó chuyển mã ASCII đó thành nhị phân\n",
        "binary_representation = [bin(ord(c))[2:].zfill(8) for c in text]\n",
        "\n",
        "# In kết quả\n",
        "print(\" \".join(binary_representation))\n"
      ],
      "metadata": {
        "id": "xOXGYksQzkfo",
        "outputId": "9b54935d-b784-46d8-983c-c3545e6d5a4d",
        "colab": {
          "base_uri": "https://localhost:8080/"
        }
      },
      "execution_count": null,
      "outputs": [
        {
          "output_type": "stream",
          "name": "stdout",
          "text": [
            "01101110 01101000 01101111 01101101 00110100 01110100 01101000 01110101 01100001 01110100 01110100 01101111 01100001 01101110 01100010 01101100 01101111 01110111 01100110 01101001 01110011 01101000\n"
          ]
        }
      ]
    },
    {
      "cell_type": "markdown",
      "source": [],
      "metadata": {
        "id": "3qK4YvfYLS15"
      }
    },
    {
      "cell_type": "markdown",
      "source": [
        "# Khởi tạo mảng P"
      ],
      "metadata": {
        "id": "npSUPOZmLkXX"
      }
    },
    {
      "cell_type": "code",
      "source": [
        "P = [ \"243F6A88\", \"85A308D3\", \"13198A2E\", \"03707344\",\n",
        "      \"A4093822\", \"299F31D0\", \"082EFA98\", \"EC4E6C89\",\n",
        "      \"452821E6\", \"38D01377\", \"BE5466CF\", \"34E90C6C\",\n",
        "      \"C0AC29B7\", \"C97C50DD\", \"3F84D5B5\", \"B5470917\",\n",
        "      \"9216D5D9\", \"8979FB1B\" ]\n",
        "for i in range(0, len(P), 2):\n",
        "    print(f\"P[{i+1:2}] = {P[i]}   P[{i+2:2}] = {P[i+1]}\")\n"
      ],
      "metadata": {
        "id": "TDewdVX-LpDk",
        "colab": {
          "base_uri": "https://localhost:8080/"
        },
        "outputId": "d8550562-243c-440c-a988-9510a0b8f98c"
      },
      "execution_count": null,
      "outputs": [
        {
          "output_type": "stream",
          "name": "stdout",
          "text": [
            "P[ 1] = 243F6A88   P[ 2] = 85A308D3\n",
            "P[ 3] = 13198A2E   P[ 4] = 03707344\n",
            "P[ 5] = A4093822   P[ 6] = 299F31D0\n",
            "P[ 7] = 082EFA98   P[ 8] = EC4E6C89\n",
            "P[ 9] = 452821E6   P[10] = 38D01377\n",
            "P[11] = BE5466CF   P[12] = 34E90C6C\n",
            "P[13] = C0AC29B7   P[14] = C97C50DD\n",
            "P[15] = 3F84D5B5   P[16] = B5470917\n",
            "P[17] = 9216D5D9   P[18] = 8979FB1B\n"
          ]
        }
      ]
    },
    {
      "cell_type": "markdown",
      "source": [
        "# Khởi tạo 4 hộp S"
      ],
      "metadata": {
        "id": "y5hwyGl-Ltob"
      }
    },
    {
      "cell_type": "code",
      "source": [
        "S = [[ \"d1310ba6\", \"98dfb5ac\", \"2ffd72db\", \"d01adfb7\", \"b8e1afed\",\n",
        "        \"6a267e96\", \"ba7c9045\", \"f12c7f99\", \"24a19947\", \"b3916cf7\",\n",
        "        \"0801f2e2\", \"858efc16\", \"636920d8\", \"71574e69\", \"a458fea3\",\n",
        "        \"f4933d7e\", \"0d95748f\", \"728eb658\", \"718bcd58\", \"82154aee\",\n",
        "        \"7b54a41d\", \"c25a59b5\", \"9c30d539\", \"2af26013\", \"c5d1b023\",\n",
        "        \"286085f0\", \"ca417918\", \"b8db38ef\", \"8e79dcb0\", \"603a180e\",\n",
        "        \"6c9e0e8b\", \"b01e8a3e\", \"d71577c1\", \"bd314b27\", \"78af2fda\",\n",
        "        \"55605c60\", \"e65525f3\", \"aa55ab94\", \"57489862\", \"63e81440\",\n",
        "        \"55ca396a\", \"2aab10b6\", \"b4cc5c34\", \"1141e8ce\", \"a15486af\",\n",
        "        \"7c72e993\", \"b3ee1411\", \"636fbc2a\", \"2ba9c55d\", \"741831f6\",\n",
        "        \"ce5c3e16\", \"9b87931e\", \"afd6ba33\", \"6c24cf5c\", \"7a325381\",\n",
        "        \"28958677\", \"3b8f4898\", \"6b4bb9af\", \"c4bfe81b\", \"66282193\",\n",
        "        \"61d809cc\", \"fb21a991\", \"487cac60\", \"5dec8032\", \"ef845d5d\",\n",
        "        \"e98575b1\", \"dc262302\", \"eb651b88\", \"23893e81\", \"d396acc5\",\n",
        "        \"0f6d6ff3\", \"83f44239\", \"2e0b4482\", \"a4842004\", \"69c8f04a\",\n",
        "        \"9e1f9b5e\", \"21c66842\", \"f6e96c9a\", \"670c9c61\", \"abd388f0\",\n",
        "        \"6a51a0d2\", \"d8542f68\", \"960fa728\", \"ab5133a3\", \"6eef0b6c\",\n",
        "        \"137a3be4\", \"ba3bf050\", \"7efb2a98\", \"a1f1651d\", \"39af0176\",\n",
        "        \"66ca593e\", \"82430e88\", \"8cee8619\", \"456f9fb4\", \"7d84a5c3\",\n",
        "        \"3b8b5ebe\", \"e06f75d8\", \"85c12073\", \"401a449f\", \"56c16aa6\",\n",
        "        \"4ed3aa62\", \"363f7706\", \"1bfedf72\", \"429b023d\", \"37d0d724\",\n",
        "        \"d00a1248\", \"db0fead3\", \"49f1c09b\", \"075372c9\", \"80991b7b\",\n",
        "        \"25d479d8\", \"f6e8def7\", \"e3fe501a\", \"b6794c3b\", \"976ce0bd\",\n",
        "        \"04c006ba\", \"c1a94fb6\", \"409f60c4\", \"5e5c9ec2\", \"196a2463\",\n",
        "        \"68fb6faf\", \"3e6c53b5\", \"1339b2eb\", \"3b52ec6f\", \"6dfc511f\",\n",
        "        \"9b30952c\", \"cc814544\", \"af5ebd09\", \"bee3d004\", \"de334afd\",\n",
        "        \"660f2807\", \"192e4bb3\", \"c0cba857\", \"45c8740f\", \"d20b5f39\",\n",
        "        \"b9d3fbdb\", \"5579c0bd\", \"1a60320a\", \"d6a100c6\", \"402c7279\",\n",
        "        \"679f25fe\", \"fb1fa3cc\", \"8ea5e9f8\", \"db3222f8\", \"3c7516df\",\n",
        "        \"fd616b15\", \"2f501ec8\", \"ad0552ab\", \"323db5fa\", \"fd238760\",\n",
        "        \"53317b48\", \"3e00df82\", \"9e5c57bb\", \"ca6f8ca0\", \"1a87562e\",\n",
        "        \"df1769db\", \"d542a8f6\", \"287effc3\", \"ac6732c6\", \"8c4f5573\",\n",
        "        \"695b27b0\", \"bbca58c8\", \"e1ffa35d\", \"b8f011a0\", \"10fa3d98\",\n",
        "        \"fd2183b8\", \"4afcb56c\", \"2dd1d35b\", \"9a53e479\", \"b6f84565\",\n",
        "        \"d28e49bc\", \"4bfb9790\", \"e1ddf2da\", \"a4cb7e33\", \"62fb1341\",\n",
        "        \"cee4c6e8\", \"ef20cada\", \"36774c01\", \"d07e9efe\", \"2bf11fb4\",\n",
        "        \"95dbda4d\", \"ae909198\", \"eaad8e71\", \"6b93d5a0\", \"d08ed1d0\",\n",
        "        \"afc725e0\", \"8e3c5b2f\", \"8e7594b7\", \"8ff6e2fb\", \"f2122b64\",\n",
        "        \"8888b812\", \"900df01c\", \"4fad5ea0\", \"688fc31c\", \"d1cff191\",\n",
        "        \"b3a8c1ad\", \"2f2f2218\", \"be0e1777\", \"ea752dfe\", \"8b021fa1\",\n",
        "        \"e5a0cc0f\", \"b56f74e8\", \"18acf3d6\", \"ce89e299\", \"b4a84fe0\",\n",
        "        \"fd13e0b7\", \"7cc43b81\", \"d2ada8d9\", \"165fa266\", \"80957705\",\n",
        "        \"93cc7314\", \"211a1477\", \"e6ad2065\", \"77b5fa86\", \"c75442f5\",\n",
        "        \"fb9d35cf\", \"ebcdaf0c\", \"7b3e89a0\", \"d6411bd3\", \"ae1e7e49\",\n",
        "        \"00250e2d\", \"2071b35e\", \"226800bb\", \"57b8e0af\", \"2464369b\",\n",
        "        \"f009b91e\", \"5563911d\", \"59dfa6aa\", \"78c14389\", \"d95a537f\",\n",
        "        \"207d5ba2\", \"02e5b9c5\", \"83260376\", \"6295cfa9\", \"11c81968\",\n",
        "        \"4e734a41\", \"b3472dca\", \"7b14a94a\", \"1b510052\", \"9a532915\",\n",
        "        \"d60f573f\", \"bc9bc6e4\", \"2b60a476\", \"81e67400\", \"08ba6fb5\",\n",
        "        \"571be91f\", \"f296ec6b\", \"2a0dd915\", \"b6636521\", \"e7b9f9b6\",\n",
        "        \"ff34052e\", \"c5855664\", \"53b02d5d\", \"a99f8fa1\", \"08ba4799\",\n",
        "        \"6e85076a\" ],\n",
        "      [ \"4b7a70e9\", \"b5b32944\", \"db75092e\", \"c4192623\", \"ad6ea6b0\",\n",
        "        \"49a7df7d\", \"9cee60b8\", \"8fedb266\", \"ecaa8c71\", \"699a17ff\",\n",
        "        \"5664526c\", \"c2b19ee1\", \"193602a5\", \"75094c29\", \"a0591340\",\n",
        "        \"e4183a3e\", \"3f54989a\", \"5b429d65\", \"6b8fe4d6\", \"99f73fd6\",\n",
        "        \"a1d29c07\", \"efe830f5\", \"4d2d38e6\", \"f0255dc1\", \"4cdd2086\",\n",
        "        \"8470eb26\", \"6382e9c6\", \"021ecc5e\", \"09686b3f\", \"3ebaefc9\",\n",
        "        \"3c971814\", \"6b6a70a1\", \"687f3584\", \"52a0e286\", \"b79c5305\",\n",
        "        \"aa500737\", \"3e07841c\", \"7fdeae5c\", \"8e7d44ec\", \"5716f2b8\",\n",
        "        \"b03ada37\", \"f0500c0d\", \"f01c1f04\", \"0200b3ff\", \"ae0cf51a\",\n",
        "        \"3cb574b2\", \"25837a58\", \"dc0921bd\", \"d19113f9\", \"7ca92ff6\",\n",
        "        \"94324773\", \"22f54701\", \"3ae5e581\", \"37c2dadc\", \"c8b57634\",\n",
        "        \"9af3dda7\", \"a9446146\", \"0fd0030e\", \"ecc8c73e\", \"a4751e41\",\n",
        "        \"e238cd99\", \"3bea0e2f\", \"3280bba1\", \"183eb331\", \"4e548b38\",\n",
        "        \"4f6db908\", \"6f420d03\", \"f60a04bf\", \"2cb81290\", \"24977c79\",\n",
        "        \"5679b072\", \"bcaf89af\", \"de9a771f\", \"d9930810\", \"b38bae12\",\n",
        "        \"dccf3f2e\", \"5512721f\", \"2e6b7124\", \"501adde6\", \"9f84cd87\",\n",
        "        \"7a584718\", \"7408da17\", \"bc9f9abc\", \"e94b7d8c\", \"ec7aec3a\",\n",
        "        \"db851dfa\", \"63094366\", \"c464c3d2\", \"ef1c1847\", \"3215d908\",\n",
        "        \"dd433b37\", \"24c2ba16\", \"12a14d43\", \"2a65c451\", \"50940002\",\n",
        "        \"133ae4dd\", \"71dff89e\", \"10314e55\", \"81ac77d6\", \"5f11199b\",\n",
        "        \"043556f1\", \"d7a3c76b\", \"3c11183b\", \"5924a509\", \"f28fe6ed\",\n",
        "        \"97f1fbfa\", \"9ebabf2c\", \"1e153c6e\", \"86e34570\", \"eae96fb1\",\n",
        "        \"860e5e0a\", \"5a3e2ab3\", \"771fe71c\", \"4e3d06fa\", \"2965dcb9\",\n",
        "        \"99e71d0f\", \"803e89d6\", \"5266c825\", \"2e4cc978\", \"9c10b36a\",\n",
        "        \"c6150eba\", \"94e2ea78\", \"a5fc3c53\", \"1e0a2df4\", \"f2f74ea7\",\n",
        "        \"361d2b3d\", \"1939260f\", \"19c27960\", \"5223a708\", \"f71312b6\",\n",
        "        \"ebadfe6e\", \"eac31f66\", \"e3bc4595\", \"a67bc883\", \"b17f37d1\",\n",
        "        \"018cff28\", \"c332ddef\", \"be6c5aa5\", \"65582185\", \"68ab9802\",\n",
        "        \"eecea50f\", \"db2f953b\", \"2aef7dad\", \"5b6e2f84\", \"1521b628\",\n",
        "        \"29076170\", \"ecdd4775\", \"619f1510\", \"13cca830\", \"eb61bd96\",\n",
        "        \"0334fe1e\", \"aa0363cf\", \"b5735c90\", \"4c70a239\", \"d59e9e0b\",\n",
        "        \"cbaade14\", \"eecc86bc\", \"60622ca7\", \"9cab5cab\", \"b2f3846e\",\n",
        "        \"648b1eaf\", \"19bdf0ca\", \"a02369b9\", \"655abb50\", \"40685a32\",\n",
        "        \"3c2ab4b3\", \"319ee9d5\", \"c021b8f7\", \"9b540b19\", \"875fa099\",\n",
        "        \"95f7997e\", \"623d7da8\", \"f837889a\", \"97e32d77\", \"11ed935f\",\n",
        "        \"16681281\", \"0e358829\", \"c7e61fd6\", \"96dedfa1\", \"7858ba99\",\n",
        "        \"57f584a5\", \"1b227263\", \"9b83c3ff\", \"1ac24696\", \"cdb30aeb\",\n",
        "        \"532e3054\", \"8fd948e4\", \"6dbc3128\", \"58ebf2ef\", \"34c6ffea\",\n",
        "        \"fe28ed61\", \"ee7c3c73\", \"5d4a14d9\", \"e864b7e3\", \"42105d14\",\n",
        "        \"203e13e0\", \"45eee2b6\", \"a3aaabea\", \"db6c4f15\", \"facb4fd0\",\n",
        "        \"c742f442\", \"ef6abbb5\", \"654f3b1d\", \"41cd2105\", \"d81e799e\",\n",
        "        \"86854dc7\", \"e44b476a\", \"3d816250\", \"cf62a1f2\", \"5b8d2646\",\n",
        "        \"fc8883a0\", \"c1c7b6a3\", \"7f1524c3\", \"69cb7492\", \"47848a0b\",\n",
        "        \"5692b285\", \"095bbf00\", \"ad19489d\", \"1462b174\", \"23820e00\",\n",
        "        \"58428d2a\", \"0c55f5ea\", \"1dadf43e\", \"233f7061\", \"3372f092\",\n",
        "        \"8d937e41\", \"d65fecf1\", \"6c223bdb\", \"7cde3759\", \"cbee7460\",\n",
        "        \"4085f2a7\", \"ce77326e\", \"a6078084\", \"19f8509e\", \"e8efd855\",\n",
        "        \"61d99735\", \"a969a7aa\", \"c50c06c2\", \"5a04abfc\", \"800bcadc\",\n",
        "        \"9e447a2e\", \"c3453484\", \"fdd56705\", \"0e1e9ec9\", \"db73dbd3\",\n",
        "        \"105588cd\", \"675fda79\", \"e3674340\", \"c5c43465\", \"713e38d8\",\n",
        "        \"3d28f89e\", \"f16dff20\", \"153e21e7\", \"8fb03d4a\", \"e6e39f2b\",\n",
        "        \"db83adf7\" ],\n",
        "      [ \"e93d5a68\", \"948140f7\", \"f64c261c\", \"94692934\", \"411520f7\",\n",
        "        \"7602d4f7\", \"bcf46b2e\", \"d4a20068\", \"d4082471\", \"3320f46a\",\n",
        "        \"43b7d4b7\", \"500061af\", \"1e39f62e\", \"97244546\", \"14214f74\",\n",
        "        \"bf8b8840\", \"4d95fc1d\", \"96b591af\", \"70f4ddd3\", \"66a02f45\",\n",
        "        \"bfbc09ec\", \"03bd9785\", \"7fac6dd0\", \"31cb8504\", \"96eb27b3\",\n",
        "        \"55fd3941\", \"da2547e6\", \"abca0a9a\", \"28507825\", \"530429f4\",\n",
        "        \"0a2c86da\", \"e9b66dfb\", \"68dc1462\", \"d7486900\", \"680ec0a4\",\n",
        "        \"27a18dee\", \"4f3ffea2\", \"e887ad8c\", \"b58ce006\", \"7af4d6b6\",\n",
        "        \"aace1e7c\", \"d3375fec\", \"ce78a399\", \"406b2a42\", \"20fe9e35\",\n",
        "        \"d9f385b9\", \"ee39d7ab\", \"3b124e8b\", \"1dc9faf7\", \"4b6d1856\",\n",
        "        \"26a36631\", \"eae397b2\", \"3a6efa74\", \"dd5b4332\", \"6841e7f7\",\n",
        "        \"ca7820fb\", \"fb0af54e\", \"d8feb397\", \"454056ac\", \"ba489527\",\n",
        "        \"55533a3a\", \"20838d87\", \"fe6ba9b7\", \"d096954b\", \"55a867bc\",\n",
        "        \"a1159a58\", \"cca92963\", \"99e1db33\", \"a62a4a56\", \"3f3125f9\",\n",
        "        \"5ef47e1c\", \"9029317c\", \"fdf8e802\", \"04272f70\", \"80bb155c\",\n",
        "        \"05282ce3\", \"95c11548\", \"e4c66d22\", \"48c1133f\", \"c70f86dc\",\n",
        "        \"07f9c9ee\", \"41041f0f\", \"404779a4\", \"5d886e17\", \"325f51eb\",\n",
        "        \"d59bc0d1\", \"f2bcc18f\", \"41113564\", \"257b7834\", \"602a9c60\",\n",
        "        \"dff8e8a3\", \"1f636c1b\", \"0e12b4c2\", \"02e1329e\", \"af664fd1\",\n",
        "        \"cad18115\", \"6b2395e0\", \"333e92e1\", \"3b240b62\", \"eebeb922\",\n",
        "        \"85b2a20e\", \"e6ba0d99\", \"de720c8c\", \"2da2f728\", \"d0127845\",\n",
        "        \"95b794fd\", \"647d0862\", \"e7ccf5f0\", \"5449a36f\", \"877d48fa\",\n",
        "        \"c39dfd27\", \"f33e8d1e\", \"0a476341\", \"992eff74\", \"3a6f6eab\",\n",
        "        \"f4f8fd37\", \"a812dc60\", \"a1ebddf8\", \"991be14c\", \"db6e6b0d\",\n",
        "        \"c67b5510\", \"6d672c37\", \"2765d43b\", \"dcd0e804\", \"f1290dc7\",\n",
        "        \"cc00ffa3\", \"b5390f92\", \"690fed0b\", \"667b9ffb\", \"cedb7d9c\",\n",
        "        \"a091cf0b\", \"d9155ea3\", \"bb132f88\", \"515bad24\", \"7b9479bf\",\n",
        "        \"763bd6eb\", \"37392eb3\", \"cc115979\", \"8026e297\", \"f42e312d\",\n",
        "        \"6842ada7\", \"c66a2b3b\", \"12754ccc\", \"782ef11c\", \"6a124237\",\n",
        "        \"b79251e7\", \"06a1bbe6\", \"4bfb6350\", \"1a6b1018\", \"11caedfa\",\n",
        "        \"3d25bdd8\", \"e2e1c3c9\", \"44421659\", \"0a121386\", \"d90cec6e\",\n",
        "        \"d5abea2a\", \"64af674e\", \"da86a85f\", \"bebfe988\", \"64e4c3fe\",\n",
        "        \"9dbc8057\", \"f0f7c086\", \"60787bf8\", \"6003604d\", \"d1fd8346\",\n",
        "        \"f6381fb0\", \"7745ae04\", \"d736fccc\", \"83426b33\", \"f01eab71\",\n",
        "        \"b0804187\", \"3c005e5f\", \"77a057be\", \"bde8ae24\", \"55464299\",\n",
        "        \"bf582e61\", \"4e58f48f\", \"f2ddfda2\", \"f474ef38\", \"8789bdc2\",\n",
        "        \"5366f9c3\", \"c8b38e74\", \"b475f255\", \"46fcd9b9\", \"7aeb2661\",\n",
        "        \"8b1ddf84\", \"846a0e79\", \"915f95e2\", \"466e598e\", \"20b45770\",\n",
        "        \"8cd55591\", \"c902de4c\", \"b90bace1\", \"bb8205d0\", \"11a86248\",\n",
        "        \"7574a99e\", \"b77f19b6\", \"e0a9dc09\", \"662d09a1\", \"c4324633\",\n",
        "        \"e85a1f02\", \"09f0be8c\", \"4a99a025\", \"1d6efe10\", \"1ab93d1d\",\n",
        "        \"0ba5a4df\", \"a186f20f\", \"2868f169\", \"dcb7da83\", \"573906fe\",\n",
        "        \"a1e2ce9b\", \"4fcd7f52\", \"50115e01\", \"a70683fa\", \"a002b5c4\",\n",
        "        \"0de6d027\", \"9af88c27\", \"773f8641\", \"c3604c06\", \"61a806b5\",\n",
        "        \"f0177a28\", \"c0f586e0\", \"006058aa\", \"30dc7d62\", \"11e69ed7\",\n",
        "        \"2338ea63\", \"53c2dd94\", \"c2c21634\", \"bbcbee56\", \"90bcb6de\",\n",
        "        \"ebfc7da1\", \"ce591d76\", \"6f05e409\", \"4b7c0188\", \"39720a3d\",\n",
        "        \"7c927c24\", \"86e3725f\", \"724d9db9\", \"1ac15bb4\", \"d39eb8fc\",\n",
        "        \"ed545578\", \"08fca5b5\", \"d83d7cd3\", \"4dad0fc4\", \"1e50ef5e\",\n",
        "        \"b161e6f8\", \"a28514d9\", \"6c51133c\", \"6fd5c7e7\", \"56e14ec4\",\n",
        "        \"362abfce\", \"ddc6c837\", \"d79a3234\", \"92638212\", \"670efa8e\",\n",
        "        \"406000e0\" ],\n",
        "      [ \"3a39ce37\", \"d3faf5cf\", \"abc27737\", \"5ac52d1b\", \"5cb0679e\",\n",
        "        \"4fa33742\", \"d3822740\", \"99bc9bbe\", \"d5118e9d\", \"bf0f7315\",\n",
        "        \"d62d1c7e\", \"c700c47b\", \"b78c1b6b\", \"21a19045\", \"b26eb1be\",\n",
        "        \"6a366eb4\", \"5748ab2f\", \"bc946e79\", \"c6a376d2\", \"6549c2c8\",\n",
        "        \"530ff8ee\", \"468dde7d\", \"d5730a1d\", \"4cd04dc6\", \"2939bbdb\",\n",
        "        \"a9ba4650\", \"ac9526e8\", \"be5ee304\", \"a1fad5f0\", \"6a2d519a\",\n",
        "        \"63ef8ce2\", \"9a86ee22\", \"c089c2b8\", \"43242ef6\", \"a51e03aa\",\n",
        "        \"9cf2d0a4\", \"83c061ba\", \"9be96a4d\", \"8fe51550\", \"ba645bd6\",\n",
        "        \"2826a2f9\", \"a73a3ae1\", \"4ba99586\", \"ef5562e9\", \"c72fefd3\",\n",
        "        \"f752f7da\", \"3f046f69\", \"77fa0a59\", \"80e4a915\", \"87b08601\",\n",
        "        \"9b09e6ad\", \"3b3ee593\", \"e990fd5a\", \"9e34d797\", \"2cf0b7d9\",\n",
        "        \"022b8b51\", \"96d5ac3a\", \"017da67d\", \"d1cf3ed6\", \"7c7d2d28\",\n",
        "        \"1f9f25cf\", \"adf2b89b\", \"5ad6b472\", \"5a88f54c\", \"e029ac71\",\n",
        "        \"e019a5e6\", \"47b0acfd\", \"ed93fa9b\", \"e8d3c48d\", \"283b57cc\",\n",
        "        \"f8d56629\", \"79132e28\", \"785f0191\", \"ed756055\", \"f7960e44\",\n",
        "        \"e3d35e8c\", \"15056dd4\", \"88f46dba\", \"03a16125\", \"0564f0bd\",\n",
        "        \"c3eb9e15\", \"3c9057a2\", \"97271aec\", \"a93a072a\", \"1b3f6d9b\",\n",
        "        \"1e6321f5\", \"f59c66fb\", \"26dcf319\", \"7533d928\", \"b155fdf5\",\n",
        "        \"03563482\", \"8aba3cbb\", \"28517711\", \"c20ad9f8\", \"abcc5167\",\n",
        "        \"ccad925f\", \"4de81751\", \"3830dc8e\", \"379d5862\", \"9320f991\",\n",
        "        \"ea7a90c2\", \"fb3e7bce\", \"5121ce64\", \"774fbe32\", \"a8b6e37e\",\n",
        "        \"c3293d46\", \"48de5369\", \"6413e680\", \"a2ae0810\", \"dd6db224\",\n",
        "        \"69852dfd\", \"09072166\", \"b39a460a\", \"6445c0dd\", \"586cdecf\",\n",
        "        \"1c20c8ae\", \"5bbef7dd\", \"1b588d40\", \"ccd2017f\", \"6bb4e3bb\",\n",
        "        \"dda26a7e\", \"3a59ff45\", \"3e350a44\", \"bcb4cdd5\", \"72eacea8\",\n",
        "        \"fa6484bb\", \"8d6612ae\", \"bf3c6f47\", \"d29be463\", \"542f5d9e\",\n",
        "        \"aec2771b\", \"f64e6370\", \"740e0d8d\", \"e75b1357\", \"f8721671\",\n",
        "        \"af537d5d\", \"4040cb08\", \"4eb4e2cc\", \"34d2466a\", \"0115af84\",\n",
        "        \"e1b00428\", \"95983a1d\", \"06b89fb4\", \"ce6ea048\", \"6f3f3b82\",\n",
        "        \"3520ab82\", \"011a1d4b\", \"277227f8\", \"611560b1\", \"e7933fdc\",\n",
        "        \"bb3a792b\", \"344525bd\", \"a08839e1\", \"51ce794b\", \"2f32c9b7\",\n",
        "        \"a01fbac9\", \"e01cc87e\", \"bcc7d1f6\", \"cf0111c3\", \"a1e8aac7\",\n",
        "        \"1a908749\", \"d44fbd9a\", \"d0dadecb\", \"d50ada38\", \"0339c32a\",\n",
        "        \"c6913667\", \"8df9317c\", \"e0b12b4f\", \"f79e59b7\", \"43f5bb3a\",\n",
        "        \"f2d519ff\", \"27d9459c\", \"bf97222c\", \"15e6fc2a\", \"0f91fc71\",\n",
        "        \"9b941525\", \"fae59361\", \"ceb69ceb\", \"c2a86459\", \"12baa8d1\",\n",
        "        \"b6c1075e\", \"e3056a0c\", \"10d25065\", \"cb03a442\", \"e0ec6e0e\",\n",
        "        \"1698db3b\", \"4c98a0be\", \"3278e964\", \"9f1f9532\", \"e0d392df\",\n",
        "        \"d3a0342b\", \"8971f21e\", \"1b0a7441\", \"4ba3348c\", \"c5be7120\",\n",
        "        \"c37632d8\", \"df359f8d\", \"9b992f2e\", \"e60b6f47\", \"0fe3f11d\",\n",
        "        \"e54cda54\", \"1edad891\", \"ce6279cf\", \"cd3e7e6f\", \"1618b166\",\n",
        "        \"fd2c1d05\", \"848fd2c5\", \"f6fb2299\", \"f523f357\", \"a6327623\",\n",
        "        \"93a83531\", \"56cccd02\", \"acf08162\", \"5a75ebb5\", \"6e163697\",\n",
        "        \"88d273cc\", \"de966292\", \"81b949d0\", \"4c50901b\", \"71c65614\",\n",
        "        \"e6c6c7bd\", \"327a140a\", \"45e1d006\", \"c3f27b9a\", \"c9aa53fd\",\n",
        "        \"62a80f00\", \"bb25bfe2\", \"35bdd2f6\", \"71126905\", \"b2040222\",\n",
        "        \"b6cbcf7c\", \"cd769c2b\", \"53113ec0\", \"1640e3d3\", \"38abbd60\",\n",
        "        \"2547adf0\", \"ba38209c\", \"f746ce76\", \"77afa1c5\", \"20756060\",\n",
        "        \"85cbfe4e\", \"8ae88dd8\", \"7aaaf9b0\", \"4cf9aa7e\", \"1948c25c\",\n",
        "        \"02fb8a8c\", \"01c36ae4\", \"d6ebe1f9\", \"90d4f869\", \"a65cdea0\",\n",
        "        \"3f09252d\", \"c208e69f\", \"b74e6132\", \"ce77e25b\", \"578fdfe3\",\n",
        "        \"3ac372e6\" ]]"
      ],
      "metadata": {
        "id": "nd1jaeUqLxLQ"
      },
      "execution_count": null,
      "outputs": []
    },
    {
      "cell_type": "markdown",
      "source": [
        "# Hàm thực hiện phép toán XOR"
      ],
      "metadata": {
        "id": "Ah_GBOw0L6KB"
      }
    },
    {
      "cell_type": "code",
      "source": [
        "def xor_hex(hex1, hex2):\n",
        "    int1 = int(hex1, 16)\n",
        "    int2 = int(hex2, 16)\n",
        "    xor_result = int1 ^ int2\n",
        "    hex_result = hex(xor_result)[2:].upper()\n",
        "    return hex_result.zfill(8)"
      ],
      "metadata": {
        "id": "K1a6pKCYL8zv"
      },
      "execution_count": null,
      "outputs": []
    },
    {
      "cell_type": "markdown",
      "source": [
        "# Chia khóa mật thành các phần tử có độ dài 32 bit"
      ],
      "metadata": {
        "id": "PItB80A4L-l4"
      }
    },
    {
      "cell_type": "code",
      "source": [
        "def ascii_to_hex(ascii_str):\n",
        "    hex_str = ''.join(format(ord(char), '02x') for char in ascii_str)\n",
        "    return hex_str\n",
        "\n",
        "def split_key_secret_into_32bit_segments(key_secret_ascii):\n",
        "    key_secret_hex = ascii_to_hex(key_secret_ascii)\n",
        "    if len(key_secret_hex) % 8 != 0:\n",
        "        padding_length = 8 - (len(key_secret_hex) % 8)\n",
        "        key_secret_hex = key_secret_hex + '0' * padding_length\n",
        "    key_segments = [key_secret_hex[i:i+8] for i in range(0, len(key_secret_hex), 8)]\n",
        "    return key_segments\n",
        "\n",
        "key_segments = split_key_secret_into_32bit_segments(key_secret)\n",
        "print(key_segments)  # Kết quả sẽ là các đoạn 32-bit dưới dạng hex"
      ],
      "metadata": {
        "colab": {
          "base_uri": "https://localhost:8080/"
        },
        "id": "ZjpLIgQcMCif",
        "outputId": "88be1365-9537-45fa-bf09-a0dee4d73d8a"
      },
      "execution_count": null,
      "outputs": [
        {
          "output_type": "stream",
          "name": "stdout",
          "text": [
            "['6e686f6d', '34746875', '6174746f', '616e626c', '6f776669', '73680000']\n"
          ]
        }
      ]
    },
    {
      "cell_type": "markdown",
      "source": [
        "# Hàm F"
      ],
      "metadata": {
        "id": "4kHWialbMiol"
      }
    },
    {
      "cell_type": "code",
      "source": [
        "def F(x):\n",
        "    x = bin(x)[2:].zfill(32)\n",
        "    s1 = int(x[0:8], 2)\n",
        "    s2 = int(x[8:16], 2)\n",
        "    s3 = int(x[16:24], 2)\n",
        "    s4 = int(x[24:32], 2)\n",
        "    result = (int(S[0][s1], 16) + int(S[1][s2], 16)) % (2**32)\n",
        "    result = result ^ int(S[2][s3], 16)\n",
        "    result = (result + int(S[3][s4], 16)) % (2**32)\n",
        "    return result"
      ],
      "metadata": {
        "id": "G1w24V75MlFa"
      },
      "execution_count": null,
      "outputs": []
    },
    {
      "cell_type": "markdown",
      "source": [
        "# Hàm hoán đổi hai giá trị"
      ],
      "metadata": {
        "id": "wGXhOLEDMnXm"
      }
    },
    {
      "cell_type": "code",
      "source": [
        "def swap(a, b):\n",
        "  return b, a"
      ],
      "metadata": {
        "id": "sGA_dqGkMqLW"
      },
      "execution_count": null,
      "outputs": []
    },
    {
      "cell_type": "markdown",
      "source": [
        "# XOR mỗi phần tử của khóa với các phần tử tương ứng trong mảng P"
      ],
      "metadata": {
        "id": "kYXiyDo9MM4B"
      }
    },
    {
      "cell_type": "code",
      "source": [
        "def key_secret_xor_P_array(key_segments, P_array):\n",
        "    P_length = len(P_array)\n",
        "    key_segments_length = len(key_segments)\n",
        "    for i in range(P_length):\n",
        "        P_array[i] = xor_hex(P_array[i], key_segments[i % key_segments_length])\n",
        "    return P_array\n",
        "\n",
        "P_XOR_Key = key_secret_xor_P_array(key_segments, P)\n",
        "P_XOR_Key_bin = [bin(int(hex_str, 16))[2:].zfill(32) for hex_str in P_XOR_Key]\n",
        "P_XOR_Key_bin_int = [int(binary_str, 2) for binary_str in P_XOR_Key_bin]\n",
        "P_XOR_Key_bin_int\n",
        "print([hex(num) for num in P_XOR_Key_bin_int])"
      ],
      "metadata": {
        "colab": {
          "base_uri": "https://localhost:8080/"
        },
        "id": "PfD4ZqGwMPBw",
        "outputId": "a54ec3d6-9898-432d-9270-9b1566d6617a"
      },
      "execution_count": null,
      "outputs": [
        {
          "output_type": "stream",
          "name": "stdout",
          "text": [
            "['0x4a5705e5', '0xb1d760a6', '0x726dfe41', '0x621e1128', '0xcb7e5e4b', '0x5af731d0', '0x664695f5', '0xd83a04fc', '0x245c5589', '0x59be711b', '0xd12300a6', '0x47810c6c', '0xaec446da', '0xfd0838a8', '0x5ef0a1da', '0xd4296b7b', '0xfd61b3b0', '0xfa11fb1b']\n"
          ]
        }
      ]
    },
    {
      "cell_type": "markdown",
      "source": [
        "# Trộn khóa"
      ],
      "metadata": {
        "id": "WcMDIUinKEod"
      }
    },
    {
      "cell_type": "code",
      "source": [
        "# Hàm mã hóa\n",
        "def encryption(input_segment):\n",
        "  X = input_segment\n",
        "  LE0 = int(X[0:32], 2)\n",
        "  RE0 = int(X[32:64], 2)\n",
        "  for i in range(1, 17):\n",
        "    LE = LE0\n",
        "    RE_old = RE0\n",
        "    RE = LE ^ P_XOR_Key_bin_int[i-1]\n",
        "    LE = F(RE) ^ RE_old\n",
        "    LE0 = LE\n",
        "    RE0 = RE\n",
        "  LE0, RE0 = swap(LE0, RE0)\n",
        "  RE0 = RE0 ^ P_XOR_Key_bin_int[16]\n",
        "  LE0 = LE0 ^ P_XOR_Key_bin_int[17]\n",
        "  RE_17_binary = bin(RE0)[2:].zfill(32)\n",
        "  LE_17_binary = bin(LE0)[2:].zfill(32)\n",
        "  return LE_17_binary + RE_17_binary\n",
        "def split_64bit_to_32bit(binary_64bit):\n",
        "    left = int(binary_64bit[:32], 2)\n",
        "    right = int(binary_64bit[32:], 2)\n",
        "    return left, right\n",
        "def merge_ints_to_64bit_binary(L, R):\n",
        "    L_bin = format(L, '032b')\n",
        "    R_bin = format(R, '032b')\n",
        "    return L_bin + R_bin\n",
        "# Bắt đầu với khối toàn bit 0\n",
        "L, R = 00000000, 00000000\n",
        "\n",
        "# Cập nhật P-array\n",
        "for i in range(0, len(P), 2):\n",
        "    L, R = split_64bit_to_32bit(encryption(merge_ints_to_64bit_binary(L, R)))\n",
        "    P[i] = L\n",
        "    P[i + 1] = R\n",
        "\n",
        "# Cập nhật các hộp S\n",
        "for box_index in range(4):\n",
        "    for i in range(0, 256, 2):\n",
        "        L, R = split_64bit_to_32bit(encryption(merge_ints_to_64bit_binary(L, R)))\n",
        "        S[box_index][i] = hex(L)[2:].zfill(8)\n",
        "        S[box_index][i + 1] = hex(R)[2:].zfill(8)\n"
      ],
      "metadata": {
        "id": "HS2KfpfNKIi6"
      },
      "execution_count": null,
      "outputs": []
    },
    {
      "cell_type": "markdown",
      "source": [
        "# Chuyển văn bản sang hệ nhị phân"
      ],
      "metadata": {
        "id": "vonmmsGaMUKm"
      }
    },
    {
      "cell_type": "code",
      "source": [
        "def text_to_binary(text):\n",
        "    binary_result = ''.join(format(ord(char), '08b') for char in text)\n",
        "    return binary_result"
      ],
      "metadata": {
        "id": "MbCoeNySMWHM"
      },
      "execution_count": null,
      "outputs": []
    },
    {
      "cell_type": "code",
      "source": [
        "input_binary = text_to_binary(input)\n",
        "print(\"Văn bản đầu vào ở dạng hệ nhị phân: \",input_binary)"
      ],
      "metadata": {
        "id": "Ysl03getMYJd",
        "colab": {
          "base_uri": "https://localhost:8080/"
        },
        "outputId": "dbdb4269-4254-4cb4-c07b-1dfc04299ccf"
      },
      "execution_count": null,
      "outputs": [
        {
          "output_type": "stream",
          "name": "stdout",
          "text": [
            "Văn bản đầu vào ở dạng hệ nhị phân:  0110001001101100011011110111011101100110011010010111001101101000\n"
          ]
        }
      ]
    },
    {
      "cell_type": "markdown",
      "source": [
        "# Tách văn bản đầu vào thành từng khối 64 bit"
      ],
      "metadata": {
        "id": "y37k-ClBMay6"
      }
    },
    {
      "cell_type": "code",
      "source": [
        "input_array = []\n",
        "padding_array = []\n",
        "\n",
        "if len(input_binary) == 64:\n",
        "    input_array.append(input_binary)\n",
        "    padding_array.append(0)\n",
        "else:\n",
        "    input_binary_segments = [input_binary[i:i+64] for i in range(0, len(input_binary), 64)]\n",
        "    last_segment = input_binary_segments[-1]\n",
        "    last_segment_index = len(input_array) - 1\n",
        "    last_segment_length = len(last_segment)\n",
        "    if last_segment_length < 64:\n",
        "        padding_length = 64 - last_segment_length\n",
        "        last_segment += '0' * padding_length\n",
        "        padding_array.append(padding_length)\n",
        "        input_binary_segments[-1] = last_segment\n",
        "    else:\n",
        "        padding_array.append(0)\n",
        "    input_array.extend(input_binary_segments)\n",
        "print(\"Tách văn bản đầu vào thành từng khối 64 bit: \\n\", input_array)\n",
        "print(\"Độ dài phần padding: \", padding_array[0])  # Sử dụng padding_array để lấy độ dài padding\n"
      ],
      "metadata": {
        "id": "xOKiqGqNMd9S",
        "colab": {
          "base_uri": "https://localhost:8080/"
        },
        "outputId": "5a714001-27dd-4090-9557-c63380310668"
      },
      "execution_count": null,
      "outputs": [
        {
          "output_type": "stream",
          "name": "stdout",
          "text": [
            "Tách văn bản đầu vào thành từng khối 64 bit: \n",
            " ['0110001001101100011011110111011101100110011010010111001101101000']\n",
            "Độ dài phần padding:  0\n"
          ]
        }
      ]
    },
    {
      "cell_type": "markdown",
      "source": [
        "# Quá trình mã hóa"
      ],
      "metadata": {
        "id": "rpVjQbB_Mrh9"
      }
    },
    {
      "cell_type": "code",
      "source": [
        "# Hàm mã hóa\n",
        "def encryption(input_segment):\n",
        "  X = input_segment\n",
        "  LE0 = int(X[0:32], 2)\n",
        "  RE0 = int(X[32:64], 2)\n",
        "  for i in range(1, 17):\n",
        "    LE = LE0\n",
        "    RE_old = RE0\n",
        "    RE = LE ^ P_XOR_Key_bin_int[i-1]\n",
        "    LE = F(RE) ^ RE_old\n",
        "    LE0 = LE\n",
        "    RE0 = RE\n",
        "  LE0, RE0 = swap(LE0, RE0)\n",
        "  RE0 = RE0 ^ P_XOR_Key_bin_int[16]\n",
        "  LE0 = LE0 ^ P_XOR_Key_bin_int[17]\n",
        "  RE_17_binary = bin(RE0)[2:].zfill(32)\n",
        "  LE_17_binary = bin(LE0)[2:].zfill(32)\n",
        "  return LE_17_binary + RE_17_binary"
      ],
      "metadata": {
        "id": "x2j2yavMMudv"
      },
      "execution_count": null,
      "outputs": []
    },
    {
      "cell_type": "code",
      "source": [
        "encryption_array = []\n",
        "for segment in input_array:\n",
        "  encrypted_segment = encryption(segment)\n",
        "  encryption_array.append(encrypted_segment)\n",
        "encryption_array\n",
        "# encryption_array[0] = '1111001101001101101111001101101100010001111010110001011011000100'\n",
        "# encryption_array"
      ],
      "metadata": {
        "id": "RnJq_O8RMvHJ",
        "colab": {
          "base_uri": "https://localhost:8080/"
        },
        "outputId": "bb83cb15-1ffc-4468-f2b5-9f15fee87aec"
      },
      "execution_count": null,
      "outputs": [
        {
          "output_type": "execute_result",
          "data": {
            "text/plain": [
              "['1010001000011010000010010100000011110000010011111100011110101110']"
            ]
          },
          "metadata": {},
          "execution_count": 150
        }
      ]
    },
    {
      "cell_type": "markdown",
      "source": [
        "# Quá trình giải mã"
      ],
      "metadata": {
        "id": "t3UXnrcuM1bj"
      }
    },
    {
      "cell_type": "code",
      "source": [
        "def decryption(input_segment):\n",
        "    X = input_segment\n",
        "    LD0 = int(X[0:32], 2)\n",
        "    RD0 = int(X[32:64], 2)\n",
        "    for i in range(1, 17):\n",
        "        LD = LD0\n",
        "        RD_old = RD0\n",
        "        RD = LD ^ P_XOR_Key_bin_int[18-i]\n",
        "        LD = F(RD) ^ RD_old\n",
        "        LD0 = LD\n",
        "        RD0 = RD\n",
        "    LD0, RD0 = swap(LD0, RD0)\n",
        "    RD0 = RD0 ^ P_XOR_Key_bin_int[1]\n",
        "    LD0 = LD0 ^ P_XOR_Key_bin_int[0]\n",
        "    RD_17_binary = bin(RD0)[2:].zfill(32)\n",
        "    LD_17_binary = bin(LD0)[2:].zfill(32)\n",
        "    return LD_17_binary + RD_17_binary"
      ],
      "metadata": {
        "id": "mrI75-c-M4I6"
      },
      "execution_count": null,
      "outputs": []
    },
    {
      "cell_type": "code",
      "source": [
        "decryption_array = []\n",
        "for segment in encryption_array:\n",
        "  decrypted_segment = decryption(segment)\n",
        "  decryption_array.append(decrypted_segment)\n",
        "decryption_array"
      ],
      "metadata": {
        "id": "2FAFr_iqM62A",
        "colab": {
          "base_uri": "https://localhost:8080/"
        },
        "outputId": "2aaf8826-72e3-4038-9b9c-8f6c92afe453"
      },
      "execution_count": null,
      "outputs": [
        {
          "output_type": "execute_result",
          "data": {
            "text/plain": [
              "['0110001001101100011011110111011101100110011010010111001101101000']"
            ]
          },
          "metadata": {},
          "execution_count": 152
        }
      ]
    },
    {
      "cell_type": "markdown",
      "source": [
        "# Hàm chuyển chuỗi nhị phân sang chuỗi ASCII"
      ],
      "metadata": {
        "id": "XlwBoNHrM-9c"
      }
    },
    {
      "cell_type": "code",
      "source": [
        "def binary_to_ascii(binary_str):\n",
        "    n = 8\n",
        "    ascii_list = [binary_str[i:i+n] for i in range(0, len(binary_str), n)]\n",
        "    ascii_str = ''.join(chr(int(binary_list, 2)) for binary_list in ascii_list)\n",
        "    return ascii_str"
      ],
      "metadata": {
        "id": "byidfV0iNDc-"
      },
      "execution_count": null,
      "outputs": []
    },
    {
      "cell_type": "markdown",
      "source": [
        "# Kết quả"
      ],
      "metadata": {
        "id": "awCBrVM6NE8T"
      }
    },
    {
      "cell_type": "code",
      "source": [
        "if padding_array[0] == 0:\n",
        "  print(\"Bản rõ: \", binary_to_ascii(decryption_array[0]))\n",
        "else:\n",
        "  decrypted_text = \"\"\n",
        "  decryption_array[-1] = decryption_array[-1][:-padding_array[0]]\n",
        "  for segment in decryption_array:\n",
        "      decrypted_text += binary_to_ascii(segment)\n",
        "  print(\"Bản rõ: \", decrypted_text)"
      ],
      "metadata": {
        "id": "9rpdc3_cNGna",
        "colab": {
          "base_uri": "https://localhost:8080/"
        },
        "outputId": "10108a81-ab48-4e8f-e8b1-bfdd3e28fadf"
      },
      "execution_count": null,
      "outputs": [
        {
          "output_type": "stream",
          "name": "stdout",
          "text": [
            "Bản rõ:  blowfish\n"
          ]
        }
      ]
    }
  ]
}